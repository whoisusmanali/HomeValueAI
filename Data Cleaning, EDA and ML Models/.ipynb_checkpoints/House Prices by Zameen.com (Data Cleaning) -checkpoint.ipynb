{
 "cells": [
  {
   "cell_type": "markdown",
   "metadata": {
    "id": "blUGagShJtVu"
   },
   "source": [
    "# 1) Data Import and Important libraries"
   ]
  },
  {
   "cell_type": "code",
   "execution_count": 1,
   "metadata": {
    "executionInfo": {
     "elapsed": 1411,
     "status": "ok",
     "timestamp": 1680567473783,
     "user": {
      "displayName": "Usman Ali",
      "userId": "09228208514231833281"
     },
     "user_tz": -300
    },
    "id": "m5yjOOdpm4gJ"
   },
   "source": [
    "#Importing important libraries\n",
    "import pandas as pd\n",
    "import numpy as np\n",
    "import matplotlib.pyplot as plt\n",
    "import seaborn as sns"
   ],
   "outputs": []
  },
  {
   "cell_type": "code",
   "execution_count": 2,
   "metadata": {
    "colab": {
     "base_uri": "https://localhost:8080/"
    },
    "executionInfo": {
     "elapsed": 3351,
     "status": "ok",
     "timestamp": 1680567547476,
     "user": {
      "displayName": "Usman Ali",
      "userId": "09228208514231833281"
     },
     "user_tz": -300
    },
    "id": "7q3uju_ioItT",
    "outputId": "8c264f5c-a310-4178-ce45-483afa7c6452"
   },
   "source": [
    "#Getting the data from google drive\n",
    "!gdown --id '1ZLsD1w5YXX0QgfupwC0gYTOGASa-nbkR'"
   ],
   "outputs": []
  },
  {
   "cell_type": "code",
   "execution_count": 7,
   "metadata": {
    "colab": {
     "base_uri": "https://localhost:8080/",
     "height": 426
    },
    "executionInfo": {
     "elapsed": 1417,
     "status": "ok",
     "timestamp": 1680568141552,
     "user": {
      "displayName": "Usman Ali",
      "userId": "09228208514231833281"
     },
     "user_tz": -300
    },
    "id": "3ngvU6M4oaN-",
    "outputId": "98f996ed-da2e-49b0-a14c-1b1faab6ac68"
   },
   "source": [
    "data=pd.read_csv('/content/zameen-updated.csv')\n",
    "data.head()"
   ],
   "outputs": []
  },
  {
   "cell_type": "markdown",
   "metadata": {
    "id": "6xjFF4S4qn4f"
   },
   "source": [
    "# 2) Statical Analysis"
   ]
  },
  {
   "cell_type": "code",
   "execution_count": 8,
   "metadata": {
    "colab": {
     "base_uri": "https://localhost:8080/",
     "height": 300
    },
    "executionInfo": {
     "elapsed": 21,
     "status": "ok",
     "timestamp": 1680568443489,
     "user": {
      "displayName": "Usman Ali",
      "userId": "09228208514231833281"
     },
     "user_tz": -300
    },
    "id": "geKYVstTqjPS",
    "outputId": "16cca0ce-6eaa-488f-a4f8-d888e1f4fbfe"
   },
   "source": [
    "data.describe()"
   ],
   "outputs": []
  },
  {
   "cell_type": "markdown",
   "metadata": {
    "id": "9pCKMJ3wr4qd"
   },
   "source": [
    "# 2.1 Insites\n",
    "This data tell us that in some there are some outliers are there.\n",
    "#### Like\n",
    "The price parameter has mean of 1.776576e+07 but the max value is 2.000000e+09 and 75% values are 1.950000e+07. That's means it has outliers that are making this field unstructured.\n"
   ]
  },
  {
   "cell_type": "markdown",
   "metadata": {
    "id": "Hw2VCT0ns6zM"
   },
   "source": [
    "# 3) Data Cleaning"
   ]
  },
  {
   "cell_type": "code",
   "execution_count": 9,
   "metadata": {
    "colab": {
     "base_uri": "https://localhost:8080/",
     "height": 228
    },
    "executionInfo": {
     "elapsed": 675,
     "status": "ok",
     "timestamp": 1680568707100,
     "user": {
      "displayName": "Usman Ali",
      "userId": "09228208514231833281"
     },
     "user_tz": -300
    },
    "id": "ZltcI-T7sv1G",
    "outputId": "24bb65e6-7ad3-4bf7-b697-25462dc6046b"
   },
   "source": [
    "data.head(2)"
   ],
   "outputs": []
  },
  {
   "cell_type": "markdown",
   "metadata": {
    "id": "dQWjstMMo_ia"
   },
   "source": [
    "### 3.1 First let's understand the dataset\n",
    "We don't need \n",
    "\n",
    "1. proporty_id\n",
    "2. location_id\n",
    "3. page_url\n",
    "4. area\n",
    "5. area Category \n",
    "\n",
    "because these all have nothing to do with our model. That is why drop these parameters."
   ]
  },
  {
   "cell_type": "code",
   "execution_count": 10,
   "metadata": {
    "colab": {
     "base_uri": "https://localhost:8080/",
     "height": 426
    },
    "executionInfo": {
     "elapsed": 419,
     "status": "ok",
     "timestamp": 1680568740793,
     "user": {
      "displayName": "Usman Ali",
      "userId": "09228208514231833281"
     },
     "user_tz": -300
    },
    "id": "a4_jsM8aojAP",
    "outputId": "ff17df3d-a0d1-427a-cbe1-9a7b47d0c1b6"
   },
   "source": [
    "#columns drop\n",
    "data=data.drop(['property_id','location_id','page_url','area','Area Category'],axis=1)\n",
    "data.head()"
   ],
   "outputs": []
  },
  {
   "cell_type": "markdown",
   "metadata": {
    "id": "RDoojeJ9tBD5"
   },
   "source": [
    "### 3.2 Null values"
   ]
  },
  {
   "cell_type": "code",
   "execution_count": 12,
   "metadata": {
    "colab": {
     "base_uri": "https://localhost:8080/"
    },
    "executionInfo": {
     "elapsed": 793,
     "status": "ok",
     "timestamp": 1680568786048,
     "user": {
      "displayName": "Usman Ali",
      "userId": "09228208514231833281"
     },
     "user_tz": -300
    },
    "id": "2PiTb3e6qUFi",
    "outputId": "6eb700aa-5142-4b5f-8a2e-01fea3f2545f"
   },
   "source": [
    "data.isnull().sum()"
   ],
   "outputs": []
  },
  {
   "cell_type": "markdown",
   "metadata": {
    "id": "j2iQ1S05tNQU"
   },
   "source": [
    "Here we have 44071 null values from agency and agent only. That is the 26 percentage of total dataset."
   ]
  },
  {
   "cell_type": "code",
   "execution_count": 26,
   "metadata": {
    "colab": {
     "base_uri": "https://localhost:8080/"
    },
    "executionInfo": {
     "elapsed": 5,
     "status": "ok",
     "timestamp": 1680569074439,
     "user": {
      "displayName": "Usman Ali",
      "userId": "09228208514231833281"
     },
     "user_tz": -300
    },
    "id": "RAzvAr9XtHPE",
    "outputId": "9137eda1-2fec-41ff-9669-37361c356706"
   },
   "source": [
    "total_values=data.index.stop\n",
    "null_values=data['agency'].isnull().sum()\n",
    "\n",
    "percentage=null_values/total_values\n",
    "percentage"
   ],
   "outputs": []
  },
  {
   "cell_type": "code",
   "execution_count": 34,
   "metadata": {
    "colab": {
     "base_uri": "https://localhost:8080/"
    },
    "executionInfo": {
     "elapsed": 7,
     "status": "ok",
     "timestamp": 1680569302102,
     "user": {
      "displayName": "Usman Ali",
      "userId": "09228208514231833281"
     },
     "user_tz": -300
    },
    "id": "cu7ZltwptdbT",
    "outputId": "9892640f-e1cb-496a-ced2-8aa25c51e42d"
   },
   "source": [
    "#Unique values of agency and agent\n",
    "agency_uniques=data['agency'].unique()[0:-1]\n",
    "list(agency_uniques)"
   ],
   "outputs": []
  },
  {
   "cell_type": "code",
   "execution_count": 36,
   "metadata": {
    "colab": {
     "base_uri": "https://localhost:8080/"
    },
    "executionInfo": {
     "elapsed": 15,
     "status": "ok",
     "timestamp": 1680569396427,
     "user": {
      "displayName": "Usman Ali",
      "userId": "09228208514231833281"
     },
     "user_tz": -300
    },
    "id": "ZHYQHw7quZeS",
    "outputId": "8dedde19-dfcd-4161-9d71-4b1aed251479"
   },
   "source": [
    "#For agent\n",
    "list(data['agent'].unique())"
   ],
   "outputs": []
  },
  {
   "cell_type": "markdown",
   "metadata": {
    "id": "x--t-bL-vi2y"
   },
   "source": [
    "We can fill these null values with 'Self' word because they all do their work by their own."
   ]
  },
  {
   "cell_type": "code",
   "execution_count": 39,
   "metadata": {
    "executionInfo": {
     "elapsed": 658,
     "status": "ok",
     "timestamp": 1680569561496,
     "user": {
      "displayName": "Usman Ali",
      "userId": "09228208514231833281"
     },
     "user_tz": -300
    },
    "id": "mle65WY5vaxA"
   },
   "source": [
    "data['agency'].fillna('Self',inplace=True)\n",
    "data['agent'].fillna('Self',inplace=True)"
   ],
   "outputs": []
  },
  {
   "cell_type": "code",
   "execution_count": 40,
   "metadata": {
    "colab": {
     "base_uri": "https://localhost:8080/"
    },
    "executionInfo": {
     "elapsed": 641,
     "status": "ok",
     "timestamp": 1680569580667,
     "user": {
      "displayName": "Usman Ali",
      "userId": "09228208514231833281"
     },
     "user_tz": -300
    },
    "id": "lEPDNmofv7Yg",
    "outputId": "eac348aa-455d-4f24-d8d5-e87b32b37bcb"
   },
   "source": [
    "data.isnull().sum()"
   ],
   "outputs": []
  },
  {
   "cell_type": "markdown",
   "metadata": {
    "id": "6pZOVO18wNBM"
   },
   "source": [
    "Check point"
   ]
  },
  {
   "cell_type": "code",
   "execution_count": 86,
   "metadata": {
    "executionInfo": {
     "elapsed": 530,
     "status": "ok",
     "timestamp": 1680572916220,
     "user": {
      "displayName": "Usman Ali",
      "userId": "09228208514231833281"
     },
     "user_tz": -300
    },
    "id": "9jxfG_YMwLRx"
   },
   "source": [
    "data1=data.copy()"
   ],
   "outputs": []
  },
  {
   "cell_type": "markdown",
   "metadata": {
    "id": "MlGgpcP5wUNo"
   },
   "source": [
    "### 3.3 Duplicate Values"
   ]
  },
  {
   "cell_type": "code",
   "execution_count": 87,
   "metadata": {
    "colab": {
     "base_uri": "https://localhost:8080/"
    },
    "executionInfo": {
     "elapsed": 11,
     "status": "ok",
     "timestamp": 1680572916678,
     "user": {
      "displayName": "Usman Ali",
      "userId": "09228208514231833281"
     },
     "user_tz": -300
    },
    "id": "kbLSuiadwRws",
    "outputId": "2e3b140a-992f-4202-bc0a-a873321bd463"
   },
   "source": [
    "data1.duplicated().sum()"
   ],
   "outputs": []
  },
  {
   "cell_type": "markdown",
   "metadata": {
    "id": "J9HBrCifwfVT"
   },
   "source": [
    "Delete these duplicate values they might effect our model."
   ]
  },
  {
   "cell_type": "code",
   "execution_count": 88,
   "metadata": {
    "colab": {
     "base_uri": "https://localhost:8080/"
    },
    "executionInfo": {
     "elapsed": 5,
     "status": "ok",
     "timestamp": 1680572917564,
     "user": {
      "displayName": "Usman Ali",
      "userId": "09228208514231833281"
     },
     "user_tz": -300
    },
    "id": "rOhB-ik8wYyh",
    "outputId": "df7d8484-32b3-441f-c78c-cf25883bba7e"
   },
   "source": [
    "data1.drop_duplicates(inplace=True)\n",
    "data1.duplicated().sum()"
   ],
   "outputs": []
  },
  {
   "cell_type": "markdown",
   "metadata": {
    "id": "2ryVGpHVyRDr"
   },
   "source": [
    "### 3.4 Data Types"
   ]
  },
  {
   "cell_type": "code",
   "execution_count": 89,
   "metadata": {
    "colab": {
     "base_uri": "https://localhost:8080/"
    },
    "executionInfo": {
     "elapsed": 8,
     "status": "ok",
     "timestamp": 1680572918765,
     "user": {
      "displayName": "Usman Ali",
      "userId": "09228208514231833281"
     },
     "user_tz": -300
    },
    "id": "tAIi_F3Rww8-",
    "outputId": "0b454a1c-07d3-469d-d70c-53e6c9b17bfc"
   },
   "source": [
    "data1.info()"
   ],
   "outputs": []
  },
  {
   "cell_type": "code",
   "execution_count": 90,
   "metadata": {
    "colab": {
     "base_uri": "https://localhost:8080/",
     "height": 179
    },
    "executionInfo": {
     "elapsed": 6,
     "status": "ok",
     "timestamp": 1680572918766,
     "user": {
      "displayName": "Usman Ali",
      "userId": "09228208514231833281"
     },
     "user_tz": -300
    },
    "id": "mHlqaz1AyVX3",
    "outputId": "381671ac-4682-450b-c7bf-e8c248752816"
   },
   "source": [
    "data1.head(1)"
   ],
   "outputs": []
  },
  {
   "cell_type": "code",
   "execution_count": 91,
   "metadata": {
    "executionInfo": {
     "elapsed": 4,
     "status": "ok",
     "timestamp": 1680572919321,
     "user": {
      "displayName": "Usman Ali",
      "userId": "09228208514231833281"
     },
     "user_tz": -300
    },
    "id": "ZTUgqpLfyZJo"
   },
   "source": [
    "#Now let's change the date into date format by pandas.to_datatime()\n",
    "data1['date_added']=pd.to_datetime(data1['date_added'])"
   ],
   "outputs": []
  },
  {
   "cell_type": "code",
   "execution_count": 92,
   "metadata": {
    "colab": {
     "base_uri": "https://localhost:8080/"
    },
    "executionInfo": {
     "elapsed": 579,
     "status": "ok",
     "timestamp": 1680572919897,
     "user": {
      "displayName": "Usman Ali",
      "userId": "09228208514231833281"
     },
     "user_tz": -300
    },
    "id": "oGjVIIFFzE6Z",
    "outputId": "1f80d348-04ba-4ba2-e097-6188a67929f0"
   },
   "source": [
    "data1.info()"
   ],
   "outputs": []
  },
  {
   "cell_type": "code",
   "execution_count": 93,
   "metadata": {
    "colab": {
     "base_uri": "https://localhost:8080/",
     "height": 426
    },
    "executionInfo": {
     "elapsed": 7,
     "status": "ok",
     "timestamp": 1680572919898,
     "user": {
      "displayName": "Usman Ali",
      "userId": "09228208514231833281"
     },
     "user_tz": -300
    },
    "id": "ip573bjhzJo1",
    "outputId": "2498605d-fdcb-4c7e-8be9-a8ea575ec540"
   },
   "source": [
    "data1.head()"
   ],
   "outputs": []
  },
  {
   "cell_type": "markdown",
   "metadata": {
    "id": "QLKqjBAozu7d"
   },
   "source": [
    "Change the Area Size from Marla and Kanal into only Marla"
   ]
  },
  {
   "cell_type": "code",
   "execution_count": 99,
   "metadata": {
    "colab": {
     "base_uri": "https://localhost:8080/",
     "height": 748
    },
    "executionInfo": {
     "elapsed": 9871,
     "status": "ok",
     "timestamp": 1680573103313,
     "user": {
      "displayName": "Usman Ali",
      "userId": "09228208514231833281"
     },
     "user_tz": -300
    },
    "id": "tIXvJc2gzbrT",
    "outputId": "44944128-cb72-456f-b857-ac52109ed003"
   },
   "source": [
    "Area_in_marla=data1[['Area Type','Area Size']].apply(lambda x: x['Area Size']*20 if x['Area Type'] in ['Kanal'] else x, axis=1)\n",
    "Area_in_marla.drop(['Area Type'],axis=1,inplace=True)\n",
    "Area_in_marla.rename(columns={'Area Size':'Area_in_Marla'},inplace=True)\n",
    "data1=pd.concat([data1,Area_in_marla],axis=1)\n",
    "data1"
   ],
   "outputs": []
  },
  {
   "cell_type": "markdown",
   "metadata": {
    "id": "bFaYX7DM92iX"
   },
   "source": [
    "check point"
   ]
  },
  {
   "cell_type": "code",
   "execution_count": 100,
   "metadata": {
    "executionInfo": {
     "elapsed": 637,
     "status": "ok",
     "timestamp": 1680573174999,
     "user": {
      "displayName": "Usman Ali",
      "userId": "09228208514231833281"
     },
     "user_tz": -300
    },
    "id": "ksOH2D8-9YcO"
   },
   "source": [
    "data2=data1.copy()"
   ],
   "outputs": []
  },
  {
   "cell_type": "markdown",
   "metadata": {
    "id": "ye523F1w-CPy"
   },
   "source": [
    "3.5 Check for Correlation between the data"
   ]
  },
  {
   "cell_type": "code",
   "execution_count": 104,
   "metadata": {
    "colab": {
     "base_uri": "https://localhost:8080/",
     "height": 536
    },
    "executionInfo": {
     "elapsed": 1995,
     "status": "ok",
     "timestamp": 1680573258882,
     "user": {
      "displayName": "Usman Ali",
      "userId": "09228208514231833281"
     },
     "user_tz": -300
    },
    "id": "IwmI_pT394-F",
    "outputId": "798dc0dc-df0a-4b04-f479-8d012ba6953e"
   },
   "source": [
    "sns.heatmap(data2.corr(),annot=True)"
   ],
   "outputs": []
  },
  {
   "cell_type": "markdown",
   "metadata": {
    "id": "lfxDTsnw-Xi0"
   },
   "source": [
    "Price is our Dependent Variable so the correlation with price of baths,bedrooms,area_in_marla has really good correlation so we will drop others column after doing EDA."
   ]
  },
  {
   "cell_type": "code",
   "execution_count": 106,
   "metadata": {
    "executionInfo": {
     "elapsed": 33,
     "status": "ok",
     "timestamp": 1680573423703,
     "user": {
      "displayName": "Usman Ali",
      "userId": "09228208514231833281"
     },
     "user_tz": -300
    },
    "id": "bqN0jQgw97_L"
   },
   "source": [
    "data2.drop(['Area Type','Area Size'],axis=1,inplace=True)"
   ],
   "outputs": []
  },
  {
   "cell_type": "code",
   "execution_count": 108,
   "metadata": {
    "colab": {
     "base_uri": "https://localhost:8080/",
     "height": 409
    },
    "executionInfo": {
     "elapsed": 15,
     "status": "ok",
     "timestamp": 1680573439348,
     "user": {
      "displayName": "Usman Ali",
      "userId": "09228208514231833281"
     },
     "user_tz": -300
    },
    "id": "_QF3XR6e-uK8",
    "outputId": "c676fc78-4348-4d7f-da36-99cda8dd5bc3"
   },
   "source": [
    "data2.head()"
   ],
   "outputs": []
  },
  {
   "cell_type": "markdown",
   "metadata": {
    "id": "Z08VSPy2_AtE"
   },
   "source": [
    "Save that dataset for now to do EDA"
   ]
  },
  {
   "cell_type": "code",
   "execution_count": 111,
   "metadata": {
    "executionInfo": {
     "elapsed": 2978,
     "status": "ok",
     "timestamp": 1680573616674,
     "user": {
      "displayName": "Usman Ali",
      "userId": "09228208514231833281"
     },
     "user_tz": -300
    },
    "id": "uNc-Dcbc-2wt"
   },
   "source": [
    "data2.to_csv('EDA_dataset.csv')"
   ],
   "outputs": []
  },
  {
   "cell_type": "markdown",
   "metadata": {
    "id": "k1_0-voLAjAt"
   },
   "source": [
    "### 3.6 Drop\n",
    "Let's drop the unwanted features"
   ]
  },
  {
   "cell_type": "code",
   "execution_count": 114,
   "metadata": {
    "colab": {
     "base_uri": "https://localhost:8080/",
     "height": 206
    },
    "executionInfo": {
     "elapsed": 656,
     "status": "ok",
     "timestamp": 1680574158393,
     "user": {
      "displayName": "Usman Ali",
      "userId": "09228208514231833281"
     },
     "user_tz": -300
    },
    "id": "jzzYAr4wAhyH",
    "outputId": "5d2ffbc6-e72b-437a-c884-d7e794dd6c8e"
   },
   "source": [
    "data2.drop(['province_name',\n",
    "            'agent',\n",
    "            'agency',\n",
    "            'date_added',\n",
    "            'longitude',\n",
    "            'latitude'],\n",
    "           axis=1,\n",
    "           inplace=True)\n",
    "data2.head()"
   ],
   "outputs": []
  },
  {
   "cell_type": "markdown",
   "metadata": {
    "id": "s44iYgQRBxgZ"
   },
   "source": [
    "Check for unique values in each"
   ]
  },
  {
   "cell_type": "code",
   "execution_count": 115,
   "metadata": {
    "colab": {
     "base_uri": "https://localhost:8080/"
    },
    "executionInfo": {
     "elapsed": 7,
     "status": "ok",
     "timestamp": 1680574226247,
     "user": {
      "displayName": "Usman Ali",
      "userId": "09228208514231833281"
     },
     "user_tz": -300
    },
    "id": "9smuA_reBwLq",
    "outputId": "323b5b82-5c4b-4254-8181-18b975bb7194"
   },
   "source": [
    "data2['property_type'].unique()"
   ],
   "outputs": []
  },
  {
   "cell_type": "code",
   "execution_count": 123,
   "metadata": {
    "colab": {
     "base_uri": "https://localhost:8080/"
    },
    "executionInfo": {
     "elapsed": 31,
     "status": "ok",
     "timestamp": 1680574551162,
     "user": {
      "displayName": "Usman Ali",
      "userId": "09228208514231833281"
     },
     "user_tz": -300
    },
    "id": "M5__fzoEB9_B",
    "outputId": "0fdaa3dc-d336-40ff-af27-f864916b50dc"
   },
   "source": [
    "list(data2['location'].unique())"
   ],
   "outputs": []
  },
  {
   "cell_type": "code",
   "execution_count": 124,
   "metadata": {
    "colab": {
     "base_uri": "https://localhost:8080/"
    },
    "executionInfo": {
     "elapsed": 14,
     "status": "ok",
     "timestamp": 1680574585420,
     "user": {
      "displayName": "Usman Ali",
      "userId": "09228208514231833281"
     },
     "user_tz": -300
    },
    "id": "zVuQZLFVDK95",
    "outputId": "af4d145d-e9f8-46cc-d5dc-5d04186bf2a3"
   },
   "source": [
    "data2['city'].unique()"
   ],
   "outputs": []
  },
  {
   "cell_type": "code",
   "execution_count": 125,
   "metadata": {
    "colab": {
     "base_uri": "https://localhost:8080/"
    },
    "executionInfo": {
     "elapsed": 6,
     "status": "ok",
     "timestamp": 1680574617223,
     "user": {
      "displayName": "Usman Ali",
      "userId": "09228208514231833281"
     },
     "user_tz": -300
    },
    "id": "uRcIUgKZDVMO",
    "outputId": "08b855bb-5051-4b47-ae4e-54b7414d8219"
   },
   "source": [
    "data2['purpose'].unique(\n",
    ")"
   ],
   "outputs": []
  },
  {
   "cell_type": "markdown",
   "metadata": {
    "id": "C8B-sXCYEkuY"
   },
   "source": [
    "check point"
   ]
  },
  {
   "cell_type": "code",
   "execution_count": 129,
   "metadata": {
    "executionInfo": {
     "elapsed": 1471,
     "status": "ok",
     "timestamp": 1680574982892,
     "user": {
      "displayName": "Usman Ali",
      "userId": "09228208514231833281"
     },
     "user_tz": -300
    },
    "id": "KrfWhSoFEiIr"
   },
   "source": [
    "data3=data2.copy()"
   ],
   "outputs": []
  },
  {
   "cell_type": "markdown",
   "metadata": {
    "id": "0hbq3VR8G3do"
   },
   "source": [
    "Save dataset for model building"
   ]
  },
  {
   "cell_type": "markdown",
   "metadata": {
    "id": "dJRmGpGkEKzi"
   },
   "source": [
    "Making Dependent and independent features"
   ]
  },
  {
   "cell_type": "markdown",
   "metadata": {
    "id": "z0LvdsYnJZKb"
   },
   "source": [
    "### 3.7 Outliers Detection"
   ]
  },
  {
   "cell_type": "code",
   "execution_count": 156,
   "metadata": {
    "colab": {
     "base_uri": "https://localhost:8080/",
     "height": 357
    },
    "executionInfo": {
     "elapsed": 1555,
     "status": "ok",
     "timestamp": 1680576778296,
     "user": {
      "displayName": "Usman Ali",
      "userId": "09228208514231833281"
     },
     "user_tz": -300
    },
    "id": "lvY16LcrGmXr",
    "outputId": "e8ecfbd4-e3be-415e-e9be-ff4282bd8d4a"
   },
   "source": [
    "plt.rcParams[\"figure.figsize\"] = [7.50, 3.50]\n",
    "plt.rcParams[\"figure.autolayout\"] = True\n",
    "\n",
    "ax = data3[['price', 'baths', 'bedrooms', 'Area_in_Marla']].plot(kind='box', title='boxplot')\n",
    "plt.show()"
   ],
   "outputs": []
  },
  {
   "cell_type": "markdown",
   "metadata": {
    "id": "gUbkqjLCNL3e"
   },
   "source": [
    "3.7.1 Price Outliers removel"
   ]
  },
  {
   "cell_type": "code",
   "execution_count": 158,
   "metadata": {
    "colab": {
     "base_uri": "https://localhost:8080/",
     "height": 564
    },
    "executionInfo": {
     "elapsed": 1148,
     "status": "ok",
     "timestamp": 1680576937857,
     "user": {
      "displayName": "Usman Ali",
      "userId": "09228208514231833281"
     },
     "user_tz": -300
    },
    "id": "RAlv0MgjLmuu",
    "outputId": "367396da-ffeb-4134-e36c-485a4d49ba89"
   },
   "source": [
    "sns.distplot(x=data3['price'],kde=False)"
   ],
   "outputs": []
  },
  {
   "cell_type": "code",
   "execution_count": 184,
   "metadata": {
    "colab": {
     "base_uri": "https://localhost:8080/"
    },
    "executionInfo": {
     "elapsed": 723,
     "status": "ok",
     "timestamp": 1680577548595,
     "user": {
      "displayName": "Usman Ali",
      "userId": "09228208514231833281"
     },
     "user_tz": -300
    },
    "id": "w-QfBUvIMKbt",
    "outputId": "c79c9496-0338-4963-ed49-05bc3b249d56"
   },
   "source": [
    "#Removing Outliers by using Percentile\n",
    "min_thresold=data3['price'].quantile(0.01)\n",
    "max_thresold=data3['price'].quantile(0.90)\n",
    "min_thresold,max_thresold"
   ],
   "outputs": []
  },
  {
   "cell_type": "code",
   "execution_count": 185,
   "metadata": {
    "executionInfo": {
     "elapsed": 433,
     "status": "ok",
     "timestamp": 1680577555151,
     "user": {
      "displayName": "Usman Ali",
      "userId": "09228208514231833281"
     },
     "user_tz": -300
    },
    "id": "OXZVJo1yMb7c"
   },
   "source": [
    "data4=data3[(data3['price']>min_thresold)&(data3['price']<max_thresold)]"
   ],
   "outputs": []
  },
  {
   "cell_type": "code",
   "execution_count": 186,
   "metadata": {
    "colab": {
     "base_uri": "https://localhost:8080/",
     "height": 565
    },
    "executionInfo": {
     "elapsed": 782,
     "status": "ok",
     "timestamp": 1680577557666,
     "user": {
      "displayName": "Usman Ali",
      "userId": "09228208514231833281"
     },
     "user_tz": -300
    },
    "id": "McOdTZJlMzCU",
    "outputId": "97c7e22c-b849-49b9-f20c-3c2058bcdce0"
   },
   "source": [
    "sns.distplot(x=data4['price'],kde=False)"
   ],
   "outputs": []
  },
  {
   "cell_type": "markdown",
   "metadata": {
    "id": "dc_txFXwNRTN"
   },
   "source": [
    "3.7.2 Baths outliers removel"
   ]
  },
  {
   "cell_type": "code",
   "execution_count": 187,
   "metadata": {
    "colab": {
     "base_uri": "https://localhost:8080/",
     "height": 564
    },
    "executionInfo": {
     "elapsed": 1318,
     "status": "ok",
     "timestamp": 1680577564381,
     "user": {
      "displayName": "Usman Ali",
      "userId": "09228208514231833281"
     },
     "user_tz": -300
    },
    "id": "SdQcnRCmM5-S",
    "outputId": "7fbbc87b-df3b-48f1-fcd4-d53b0491b7f1"
   },
   "source": [
    "sns.distplot(x=data4['baths'],kde=False)"
   ],
   "outputs": []
  },
  {
   "cell_type": "code",
   "execution_count": 188,
   "metadata": {
    "colab": {
     "base_uri": "https://localhost:8080/"
    },
    "executionInfo": {
     "elapsed": 415,
     "status": "ok",
     "timestamp": 1680577576918,
     "user": {
      "displayName": "Usman Ali",
      "userId": "09228208514231833281"
     },
     "user_tz": -300
    },
    "id": "RGRjq2cTNW0R",
    "outputId": "a1834960-6b68-40f0-f7b1-03bc1b47a265"
   },
   "source": [
    "min_thresold=data4['baths'].quantile(0.01)\n",
    "max_thresold=data4['baths'].quantile(0.99)\n",
    "min_thresold,max_thresold"
   ],
   "outputs": []
  },
  {
   "cell_type": "code",
   "execution_count": 189,
   "metadata": {
    "executionInfo": {
     "elapsed": 933,
     "status": "ok",
     "timestamp": 1680577583140,
     "user": {
      "displayName": "Usman Ali",
      "userId": "09228208514231833281"
     },
     "user_tz": -300
    },
    "id": "Yj4jE3FbNkDd"
   },
   "source": [
    "data5=data4[(data4['baths']>min_thresold)&(data4['baths']<max_thresold)]"
   ],
   "outputs": []
  },
  {
   "cell_type": "code",
   "execution_count": 190,
   "metadata": {
    "colab": {
     "base_uri": "https://localhost:8080/",
     "height": 565
    },
    "executionInfo": {
     "elapsed": 797,
     "status": "ok",
     "timestamp": 1680577587059,
     "user": {
      "displayName": "Usman Ali",
      "userId": "09228208514231833281"
     },
     "user_tz": -300
    },
    "id": "yVLF8IUmN0nW",
    "outputId": "2a72243c-ee78-4b34-9081-90a1ca26de07"
   },
   "source": [
    "sns.distplot(x=data5['baths'],kde=False)"
   ],
   "outputs": []
  },
  {
   "cell_type": "markdown",
   "metadata": {
    "id": "co1Q5Y2COEbx"
   },
   "source": [
    "3.7.3 Bedrooms remvoel"
   ]
  },
  {
   "cell_type": "code",
   "execution_count": 191,
   "metadata": {
    "colab": {
     "base_uri": "https://localhost:8080/",
     "height": 565
    },
    "executionInfo": {
     "elapsed": 992,
     "status": "ok",
     "timestamp": 1680577593382,
     "user": {
      "displayName": "Usman Ali",
      "userId": "09228208514231833281"
     },
     "user_tz": -300
    },
    "id": "dLtquXM3N51p",
    "outputId": "ce811084-45ad-43d6-b31e-9163382c5fb9"
   },
   "source": [
    "sns.distplot(data5['bedrooms'],kde=False)"
   ],
   "outputs": []
  },
  {
   "cell_type": "code",
   "execution_count": 192,
   "metadata": {
    "colab": {
     "base_uri": "https://localhost:8080/"
    },
    "executionInfo": {
     "elapsed": 667,
     "status": "ok",
     "timestamp": 1680577596258,
     "user": {
      "displayName": "Usman Ali",
      "userId": "09228208514231833281"
     },
     "user_tz": -300
    },
    "id": "931J1MGlOSDM",
    "outputId": "8420adcc-cbf3-41f4-c061-e1a137412dd5"
   },
   "source": [
    "max_thresold=data5['baths'].quantile(0.99)\n",
    "max_thresold"
   ],
   "outputs": []
  },
  {
   "cell_type": "code",
   "execution_count": 194,
   "metadata": {
    "executionInfo": {
     "elapsed": 955,
     "status": "ok",
     "timestamp": 1680577617436,
     "user": {
      "displayName": "Usman Ali",
      "userId": "09228208514231833281"
     },
     "user_tz": -300
    },
    "id": "YjV-eNM6OYPL"
   },
   "source": [
    "data6=data5[(data5['bedrooms']<max_thresold)]"
   ],
   "outputs": []
  },
  {
   "cell_type": "markdown",
   "metadata": {
    "id": "BEqKSfSBO3qw"
   },
   "source": [
    "3.7.4 Size in Marla outliers removel"
   ]
  },
  {
   "cell_type": "code",
   "execution_count": 195,
   "metadata": {
    "colab": {
     "base_uri": "https://localhost:8080/",
     "height": 565
    },
    "executionInfo": {
     "elapsed": 2073,
     "status": "ok",
     "timestamp": 1680577683016,
     "user": {
      "displayName": "Usman Ali",
      "userId": "09228208514231833281"
     },
     "user_tz": -300
    },
    "id": "RYwDUr1MOyp6",
    "outputId": "6004c584-5b82-4ec2-f0d0-3c2ba7b391f7"
   },
   "source": [
    "sns.distplot(x=data6['Area_in_Marla'],kde=False)"
   ],
   "outputs": []
  },
  {
   "cell_type": "code",
   "execution_count": 218,
   "metadata": {
    "colab": {
     "base_uri": "https://localhost:8080/"
    },
    "executionInfo": {
     "elapsed": 674,
     "status": "ok",
     "timestamp": 1680578150675,
     "user": {
      "displayName": "Usman Ali",
      "userId": "09228208514231833281"
     },
     "user_tz": -300
    },
    "id": "b4RjGnAxPFH0",
    "outputId": "c1d26967-d47c-43cd-e5a2-c5d765c4be26"
   },
   "source": [
    "max_thresold=data6['Area_in_Marla'].quantile(0.999)\n",
    "max_thresold"
   ],
   "outputs": []
  },
  {
   "cell_type": "code",
   "execution_count": 219,
   "metadata": {
    "colab": {
     "base_uri": "https://localhost:8080/",
     "height": 1000
    },
    "executionInfo": {
     "elapsed": 692,
     "status": "ok",
     "timestamp": 1680578153548,
     "user": {
      "displayName": "Usman Ali",
      "userId": "09228208514231833281"
     },
     "user_tz": -300
    },
    "id": "5ItPlIQTPRab",
    "outputId": "3dc4d4f9-13f4-498b-8bca-d68ce0edd65e"
   },
   "source": [
    "data6[data6['Area_in_Marla']>max_thresold]"
   ],
   "outputs": []
  },
  {
   "cell_type": "code",
   "execution_count": 220,
   "metadata": {
    "executionInfo": {
     "elapsed": 5,
     "status": "ok",
     "timestamp": 1680578155015,
     "user": {
      "displayName": "Usman Ali",
      "userId": "09228208514231833281"
     },
     "user_tz": -300
    },
    "id": "WFw59rjLP7sr"
   },
   "source": [
    "data7=data6[(data6['Area_in_Marla']<max_thresold)]\n"
   ],
   "outputs": []
  },
  {
   "cell_type": "code",
   "execution_count": 221,
   "metadata": {
    "colab": {
     "base_uri": "https://localhost:8080/",
     "height": 565
    },
    "executionInfo": {
     "elapsed": 851,
     "status": "ok",
     "timestamp": 1680578158156,
     "user": {
      "displayName": "Usman Ali",
      "userId": "09228208514231833281"
     },
     "user_tz": -300
    },
    "id": "s1WymKAlQbWw",
    "outputId": "177aaaeb-cbb2-4d17-d98c-e44893d65cca"
   },
   "source": [
    "sns.distplot(x=data7['Area_in_Marla'],kde=False)"
   ],
   "outputs": []
  },
  {
   "cell_type": "code",
   "execution_count": 223,
   "metadata": {
    "executionInfo": {
     "elapsed": 856,
     "status": "ok",
     "timestamp": 1680578209472,
     "user": {
      "displayName": "Usman Ali",
      "userId": "09228208514231833281"
     },
     "user_tz": -300
    },
    "id": "caA2Y8KuQt_m"
   },
   "source": [
    "data7.to_csv('cleaned_data_for_model.csv')"
   ],
   "outputs": []
  },
  {
   "cell_type": "code",
   "execution_count": null,
   "metadata": {
    "id": "aReMUu8eRBsp"
   },
   "source": [],
   "outputs": []
  }
 ],
 "metadata": {
  "colab": {
   "authorship_tag": "ABX9TyMv5ymd3Mf5QyNlxCCIV1fU",
   "provenance": []
  },
  "kernelspec": {
   "display_name": "Python 3 (ipykernel)",
   "language": "python",
   "name": "python3"
  },
  "language_info": {
   "codemirror_mode": {
    "name": "ipython",
    "version": 3
   },
   "file_extension": ".py",
   "mimetype": "text/x-python",
   "name": "python",
   "nbconvert_exporter": "python",
   "pygments_lexer": "ipython3",
   "version": "3.11.5"
  }
 },
 "nbformat": 4,
 "nbformat_minor": 1
}
