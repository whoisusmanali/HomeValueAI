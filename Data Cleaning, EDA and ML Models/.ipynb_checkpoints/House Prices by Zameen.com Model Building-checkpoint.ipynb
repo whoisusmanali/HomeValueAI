{
 "cells": [
  {
   "cell_type": "code",
   "execution_count": 1,
   "metadata": {
    "executionInfo": {
     "elapsed": 740,
     "status": "ok",
     "timestamp": 1680634817048,
     "user": {
      "displayName": "Usman Ali",
      "userId": "09228208514231833281"
     },
     "user_tz": -300
    },
    "id": "m1Ky8rtQdq4z"
   },
   "source": [
    "#Import libraries\n",
    "import pandas as pd\n",
    "import numpy as np\n",
    "\n",
    "\n",
    "from sklearn.preprocessing import StandardScaler\n",
    "from sklearn.model_selection import train_test_split\n",
    "\n",
    "from sklearn.preprocessing import OneHotEncoder\n",
    "from sklearn.compose import ColumnTransformer"
   ],
   "outputs": []
  },
  {
   "cell_type": "markdown",
   "metadata": {
    "id": "ptFQwwdvelXB"
   },
   "source": [
    "### Get the data from the Drive"
   ]
  },
  {
   "cell_type": "code",
   "execution_count": 3,
   "metadata": {},
   "source": [
    "pip install gdown"
   ],
   "outputs": []
  },
  {
   "cell_type": "code",
   "execution_count": 4,
   "metadata": {
    "colab": {
     "base_uri": "https://localhost:8080/"
    },
    "executionInfo": {
     "elapsed": 2138,
     "status": "ok",
     "timestamp": 1680634819175,
     "user": {
      "displayName": "Usman Ali",
      "userId": "09228208514231833281"
     },
     "user_tz": -300
    },
    "id": "uB5ZOsaZekl-",
    "outputId": "bf9a67d1-da36-4f91-a35b-5708dc978e7e",
    "scrolled": true
   },
   "source": [
    "!gdown --id '1dHJT1AkJ-roBpfar-6trD6yfitNPhGNe'"
   ],
   "outputs": []
  },
  {
   "cell_type": "code",
   "execution_count": 3,
   "metadata": {
    "colab": {
     "base_uri": "https://localhost:8080/",
     "height": 206
    },
    "executionInfo": {
     "elapsed": 28,
     "status": "ok",
     "timestamp": 1680634819176,
     "user": {
      "displayName": "Usman Ali",
      "userId": "09228208514231833281"
     },
     "user_tz": -300
    },
    "id": "AQfOHkyQesqv",
    "outputId": "ff9717b0-3563-483b-856d-80c5371e903d"
   },
   "source": [
    "df=pd.read_csv('/content/cleaned_data_for_model.csv')\n",
    "df.drop(['Unnamed: 0'],axis=1,inplace=True)\n",
    "df.head()"
   ],
   "outputs": []
  },
  {
   "cell_type": "markdown",
   "metadata": {
    "id": "5_EKx6nPe9Qo"
   },
   "source": [
    "#### Defining the dependent and independent variables"
   ]
  },
  {
   "cell_type": "code",
   "execution_count": 4,
   "metadata": {
    "executionInfo": {
     "elapsed": 27,
     "status": "ok",
     "timestamp": 1680634819178,
     "user": {
      "displayName": "Usman Ali",
      "userId": "09228208514231833281"
     },
     "user_tz": -300
    },
    "id": "23ojOm2Se7b8"
   },
   "source": [
    "x=df.drop(['price'],axis=1)\n",
    "y=df.iloc[:,1:2]"
   ],
   "outputs": []
  },
  {
   "cell_type": "code",
   "execution_count": 5,
   "metadata": {
    "colab": {
     "base_uri": "https://localhost:8080/",
     "height": 423
    },
    "executionInfo": {
     "elapsed": 25,
     "status": "ok",
     "timestamp": 1680634819179,
     "user": {
      "displayName": "Usman Ali",
      "userId": "09228208514231833281"
     },
     "user_tz": -300
    },
    "id": "wAw2dhvZfSKx",
    "outputId": "4598f232-3806-411e-e43a-eabf23179e47"
   },
   "source": [
    "x"
   ],
   "outputs": []
  },
  {
   "cell_type": "code",
   "execution_count": 6,
   "metadata": {
    "colab": {
     "base_uri": "https://localhost:8080/",
     "height": 423
    },
    "executionInfo": {
     "elapsed": 23,
     "status": "ok",
     "timestamp": 1680634819180,
     "user": {
      "displayName": "Usman Ali",
      "userId": "09228208514231833281"
     },
     "user_tz": -300
    },
    "id": "MM3O6w3MfSIJ",
    "outputId": "78e9e8e2-8b56-4be8-9d39-80a85409a0ff"
   },
   "source": [
    "y"
   ],
   "outputs": []
  },
  {
   "cell_type": "markdown",
   "metadata": {
    "id": "AOe8iiKteN1s"
   },
   "source": [
    "### Firstly we have to do the one-hot encoding to covert the categorical features into numerical"
   ]
  },
  {
   "cell_type": "code",
   "execution_count": 7,
   "metadata": {
    "executionInfo": {
     "elapsed": 1221,
     "status": "ok",
     "timestamp": 1680634820380,
     "user": {
      "displayName": "Usman Ali",
      "userId": "09228208514231833281"
     },
     "user_tz": -300
    },
    "id": "_ftOE88DeLlO"
   },
   "source": [
    "ct=ColumnTransformer(transformers=[('encoder',OneHotEncoder(),[0,1,2,4])],remainder='passthrough')\n",
    "x=ct.fit_transform(x)"
   ],
   "outputs": []
  },
  {
   "cell_type": "code",
   "execution_count": 8,
   "metadata": {
    "colab": {
     "base_uri": "https://localhost:8080/"
    },
    "executionInfo": {
     "elapsed": 12,
     "status": "ok",
     "timestamp": 1680634820382,
     "user": {
      "displayName": "Usman Ali",
      "userId": "09228208514231833281"
     },
     "user_tz": -300
    },
    "id": "eKDbfuOUimQU",
    "outputId": "9653c3cc-7aff-43cb-82ef-2a25a1215a10"
   },
   "source": [
    "x"
   ],
   "outputs": []
  },
  {
   "cell_type": "markdown",
   "metadata": {
    "id": "6ASR1H89f-GV"
   },
   "source": [
    "Split the data into train and test"
   ]
  },
  {
   "cell_type": "code",
   "execution_count": 9,
   "metadata": {
    "executionInfo": {
     "elapsed": 9,
     "status": "ok",
     "timestamp": 1680634820383,
     "user": {
      "displayName": "Usman Ali",
      "userId": "09228208514231833281"
     },
     "user_tz": -300
    },
    "id": "xgbR-DO6f5yQ"
   },
   "source": [
    "x_train,x_test,y_train,y_test=train_test_split(x,y,test_size=0.2,random_state=42)\n",
    "\n"
   ],
   "outputs": []
  },
  {
   "cell_type": "markdown",
   "metadata": {
    "id": "sdinIVYWhzu_"
   },
   "source": [
    "### Model Building\n",
    "In which try all the Regression model and will see the results."
   ]
  },
  {
   "cell_type": "markdown",
   "metadata": {
    "id": "UsxqkqE9l8ny"
   },
   "source": [
    "### Linear Regression"
   ]
  },
  {
   "cell_type": "code",
   "execution_count": 10,
   "metadata": {
    "executionInfo": {
     "elapsed": 2606,
     "status": "ok",
     "timestamp": 1680634822982,
     "user": {
      "displayName": "Usman Ali",
      "userId": "09228208514231833281"
     },
     "user_tz": -300
    },
    "id": "bCzdkD1ygh46"
   },
   "source": [
    "#Starting with linear regression\n",
    "from sklearn.linear_model import LinearRegression\n",
    "model=LinearRegression()\n",
    "\n",
    "model.fit(x_train,y_train)\n",
    "prediction=model.predict(x_test)"
   ],
   "outputs": []
  },
  {
   "cell_type": "code",
   "execution_count": 11,
   "metadata": {
    "colab": {
     "base_uri": "https://localhost:8080/"
    },
    "executionInfo": {
     "elapsed": 16,
     "status": "ok",
     "timestamp": 1680634822983,
     "user": {
      "displayName": "Usman Ali",
      "userId": "09228208514231833281"
     },
     "user_tz": -300
    },
    "id": "M4ro1NbAiYRG",
    "outputId": "be539ac5-dce8-4612-c02a-0a80ea11190c"
   },
   "source": [
    "linear_model=model.score(x_test,y_test)\n",
    "print(\"Linear Model Score:\",linear_model)"
   ],
   "outputs": []
  },
  {
   "cell_type": "markdown",
   "metadata": {
    "id": "P-z0XhW7l5X0"
   },
   "source": [
    "### Decision Tree"
   ]
  },
  {
   "cell_type": "code",
   "execution_count": 12,
   "metadata": {
    "colab": {
     "base_uri": "https://localhost:8080/"
    },
    "executionInfo": {
     "elapsed": 671,
     "status": "ok",
     "timestamp": 1680634823643,
     "user": {
      "displayName": "Usman Ali",
      "userId": "09228208514231833281"
     },
     "user_tz": -300
    },
    "id": "rd642l7UjpB6",
    "outputId": "9c2d3a03-198e-4e65-b752-acebff19c128"
   },
   "source": [
    "from sklearn import tree\n",
    "dt_model=tree.DecisionTreeRegressor(criterion='squared_error',max_depth=3,max_leaf_nodes=5)\n",
    "dt_model.fit(x_train,y_train)\n",
    "dt_score=dt_model.score(x_test,y_test)\n",
    "print(\"Decision Tree model score:\",dt_score)\n"
   ],
   "outputs": []
  },
  {
   "cell_type": "markdown",
   "metadata": {
    "id": "NmrRrvevl2EL"
   },
   "source": [
    "### Random Forest"
   ]
  },
  {
   "cell_type": "code",
   "execution_count": 13,
   "metadata": {
    "colab": {
     "base_uri": "https://localhost:8080/"
    },
    "executionInfo": {
     "elapsed": 4714,
     "status": "ok",
     "timestamp": 1680634828347,
     "user": {
      "displayName": "Usman Ali",
      "userId": "09228208514231833281"
     },
     "user_tz": -300
    },
    "id": "YTmxUPmAljEO",
    "outputId": "9b38159f-5544-4e81-b323-6115842cce0a"
   },
   "source": [
    "from sklearn.ensemble import RandomForestRegressor\n",
    "random_forest_model=RandomForestRegressor(n_estimators=10,\n",
    "                                          criterion='squared_error',\n",
    "                                          max_depth=5,\n",
    "                                          min_samples_leaf=5,)\n",
    "random_forest_model.fit(x_train,y_train)\n",
    "random_forest_score=random_forest_model.score(x_test,y_test)\n",
    "print(\"Random Forest Score is:\",random_forest_score)"
   ],
   "outputs": []
  },
  {
   "cell_type": "markdown",
   "metadata": {
    "id": "2WMzYFZ0oHH4"
   },
   "source": [
    "KNN"
   ]
  },
  {
   "cell_type": "code",
   "execution_count": 15,
   "metadata": {
    "colab": {
     "base_uri": "https://localhost:8080/"
    },
    "executionInfo": {
     "elapsed": 135588,
     "status": "ok",
     "timestamp": 1680634978585,
     "user": {
      "displayName": "Usman Ali",
      "userId": "09228208514231833281"
     },
     "user_tz": -300
    },
    "id": "wlJGclX2nvJE",
    "outputId": "77c68a69-ce98-499e-c1ec-464e86a235cc"
   },
   "source": [
    "from sklearn.neighbors import KNeighborsRegressor\n",
    "knn_model=KNeighborsRegressor(n_neighbors=5,\n",
    "                              weights='distance')\n",
    "knn_model.fit(x_train,y_train)\n",
    "knn_score=knn_model.score(x_test,y_test)\n",
    "print(\"KNN score:\",knn_score)"
   ],
   "outputs": []
  },
  {
   "cell_type": "code",
   "execution_count": 22,
   "metadata": {
    "colab": {
     "base_uri": "https://localhost:8080/"
    },
    "executionInfo": {
     "elapsed": 2935,
     "status": "ok",
     "timestamp": 1680635217563,
     "user": {
      "displayName": "Usman Ali",
      "userId": "09228208514231833281"
     },
     "user_tz": -300
    },
    "id": "0Bp0WvNhpIoZ",
    "outputId": "76805983-ea22-422f-ad2e-2ed201e136f2"
   },
   "source": [
    "from sklearn.ensemble import GradientBoostingRegressor\n",
    "gradient_boost_model=GradientBoostingRegressor(learning_rate=1.0,\n",
    "                                               n_estimators=20,\n",
    "                                               max_depth=5,\n",
    "                                               min_samples_leaf=5\n",
    "                                               )\n",
    "gradient_boost_model.fit(x_train,y_train)\n",
    "gradient_boost_score=gradient_boost_model.score(x_test,y_test)\n",
    "print(\"Gradient Boost Model Score:\",gradient_boost_score)"
   ],
   "outputs": []
  },
  {
   "cell_type": "markdown",
   "metadata": {
    "id": "oB11ft81qvBH"
   },
   "source": [
    "### XGBoost"
   ]
  },
  {
   "cell_type": "code",
   "execution_count": 25,
   "metadata": {
    "colab": {
     "base_uri": "https://localhost:8080/"
    },
    "executionInfo": {
     "elapsed": 7941,
     "status": "ok",
     "timestamp": 1680635424829,
     "user": {
      "displayName": "Usman Ali",
      "userId": "09228208514231833281"
     },
     "user_tz": -300
    },
    "id": "ZOHEpF0LqMOl",
    "outputId": "8ca3a24e-dc39-4dcd-a1b5-30dae484a62b"
   },
   "source": [
    "import xgboost as xgb\n",
    "xgb_model = xgb.XGBRegressor(objective=\"reg:linear\", random_state=42)\n",
    "xgb_model.fit(x_train,y_train)\n",
    "xgb_score=xgb_model.score(x_test,y_test)\n",
    "print(\"XG Boost score:\",xgb_score)"
   ],
   "outputs": []
  },
  {
   "cell_type": "markdown",
   "metadata": {
    "id": "bxao6ElDrhhJ"
   },
   "source": [
    "### ADA Boost"
   ]
  },
  {
   "cell_type": "code",
   "execution_count": 29,
   "metadata": {
    "colab": {
     "base_uri": "https://localhost:8080/"
    },
    "executionInfo": {
     "elapsed": 3450,
     "status": "ok",
     "timestamp": 1680635639278,
     "user": {
      "displayName": "Usman Ali",
      "userId": "09228208514231833281"
     },
     "user_tz": -300
    },
    "id": "o_JPSf2OrDgq",
    "outputId": "9f5f6ac4-0fa5-400f-a7de-0d37dfb1df97"
   },
   "source": [
    "from sklearn.ensemble import AdaBoostRegressor\n",
    "adaboost_model=AdaBoostRegressor(n_estimators=20,\n",
    "                                 learning_rate=0.1,\n",
    "                                 loss='square')\n",
    "adaboost_model.fit(x_train,y_train)\n",
    "adaboost_score=adaboost_model.score(x_test,y_test)\n",
    "print('ADA boost model score:',adaboost_score)"
   ],
   "outputs": []
  },
  {
   "cell_type": "markdown",
   "metadata": {
    "id": "U2pD3Xv1sOQX"
   },
   "source": [
    "## So from here the best Accuracy Score that we got is from KNN and XG boost so we can any of them to deploy on any machine, so now I will try RandomSearch CV to get the best results from KNN only."
   ]
  },
  {
   "cell_type": "code",
   "execution_count": 38,
   "metadata": {
    "colab": {
     "base_uri": "https://localhost:8080/"
    },
    "executionInfo": {
     "elapsed": 7,
     "status": "ok",
     "timestamp": 1680637191128,
     "user": {
      "displayName": "Usman Ali",
      "userId": "09228208514231833281"
     },
     "user_tz": -300
    },
    "id": "Wu96oStBsBkB",
    "outputId": "8f9799ba-2b32-44a2-a8de-8b89cb61cae2"
   },
   "source": [
    "#Prediction\n",
    "input_data=[['House','Wazir Town','Rawalpindi',4,'For Sale',3,165.9]]\n",
    "input_data1=pd.DataFrame(input_data,columns=['property_type'\t,'location',\t'city'\t,'baths'\t,'purpose'\t,'bedrooms',\t'Area_in_Marla'])\n",
    "ct=ColumnTransformer(transformers=[('encoder',OneHotEncoder(),[0,1,2,4])],remainder='passthrough')\n",
    "input_data2=ct.fit_transform(input_data1)\n",
    "\n",
    "input_data2\n"
   ],
   "outputs": []
  },
  {
   "cell_type": "code",
   "execution_count": 40,
   "metadata": {
    "executionInfo": {
     "elapsed": 537,
     "status": "ok",
     "timestamp": 1680637391502,
     "user": {
      "displayName": "Usman Ali",
      "userId": "09228208514231833281"
     },
     "user_tz": -300
    },
    "id": "7ub8N8f3wXHo"
   },
   "source": [
    "#Save the model\n",
    "import pickle\n",
    "pickle.dump(knn_model, open('House_Price_Prediction_with_KNN.pkl', 'wb'))"
   ],
   "outputs": []
  },
  {
   "cell_type": "code",
   "execution_count": 41,
   "metadata": {
    "colab": {
     "base_uri": "https://localhost:8080/"
    },
    "executionInfo": {
     "elapsed": 113332,
     "status": "ok",
     "timestamp": 1680637562483,
     "user": {
      "displayName": "Usman Ali",
      "userId": "09228208514231833281"
     },
     "user_tz": -300
    },
    "id": "dN-C--HOyDay",
    "outputId": "bd9384ed-0de7-4c85-8231-80476171839c"
   },
   "source": [
    "pickled_model = pickle.load(open('House_Price_Prediction_with_KNN.pkl', 'rb'))\n",
    "pickled_model.predict(x_test)"
   ],
   "outputs": []
  },
  {
   "cell_type": "code",
   "execution_count": null,
   "metadata": {
    "id": "QE--4gl5zE1A"
   },
   "source": [],
   "outputs": []
  }
 ],
 "metadata": {
  "colab": {
   "authorship_tag": "ABX9TyPgEANW2BvSs/J9cWtgQqpT",
   "provenance": []
  },
  "kernelspec": {
   "display_name": "Python 3 (ipykernel)",
   "language": "python",
   "name": "python3"
  },
  "language_info": {
   "codemirror_mode": {
    "name": "ipython",
    "version": 3
   },
   "file_extension": ".py",
   "mimetype": "text/x-python",
   "name": "python",
   "nbconvert_exporter": "python",
   "pygments_lexer": "ipython3",
   "version": "3.11.5"
  }
 },
 "nbformat": 4,
 "nbformat_minor": 1
}
